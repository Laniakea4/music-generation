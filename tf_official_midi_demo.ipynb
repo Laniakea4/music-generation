{
 "cells": [
  {
   "cell_type": "code",
   "execution_count": 1,
   "id": "1ba1e45f-0009-432b-85e9-2022712080dd",
   "metadata": {},
   "outputs": [],
   "source": [
    "#教程参考：https://www.tensorflow.org/tutorials/audio/music_generation\n",
    "#训练网络需要大改，目前训练跟水一样\n",
    "import collections\n",
    "import datetime\n",
    "import fluidsynth\n",
    "import glob\n",
    "import numpy as np\n",
    "import pathlib\n",
    "import pandas as pd\n",
    "import pretty_midi\n",
    "import seaborn as sns\n",
    "import tensorflow as tf\n",
    "\n",
    "from IPython import display\n",
    "from matplotlib import pyplot as plt\n",
    "from typing import Dict, List, Optional, Sequence, Tuple\n",
    "\n",
    "#全局变量\n",
    "随机种子 = 42\n",
    "tf.random.set_seed(随机种子)\n",
    "np.random.seed(随机种子)\n",
    "音频采样率 = 44100"
   ]
  },
  {
   "cell_type": "code",
   "execution_count": 2,
   "id": "5ef42d38-82f0-49b7-9eab-d4fcbb8db470",
   "metadata": {
    "tags": []
   },
   "outputs": [
    {
     "name": "stdout",
     "output_type": "stream",
     "text": [
      "FourSeasons\\autumn_no1_allegro_gp.mid\n",
      "FourSeasons\\autumn_no2_adagio_gp.mid\n",
      "FourSeasons\\autumn_no3_allegro_gp.mid\n",
      "FourSeasons\\spring_no1_allegro_gp.mid\n",
      "FourSeasons\\spring_no2_adagio_gp.mid\n",
      "FourSeasons\\spring_no3_allegro_gp.mid\n",
      "FourSeasons\\summer_no3_presto_gp.mid\n",
      "FourSeasons\\summer_no4_allegro_gp.mid\n",
      "FourSeasons\\summer_no5_adagio_gp.mid\n",
      "FourSeasons\\winter_no1_allegro_non_molto_gp.mid\n",
      "FourSeasons\\winter_no2_largo_gp.mid\n",
      "FourSeasons\\winter_no3_allegro_gp.mid\n",
      "文件数: 12\n"
     ]
    }
   ],
   "source": [
    "数据集路径 = pathlib.Path('FourSeasons')\n",
    "import os\n",
    "for dirname, _, 文件名 in os.walk(数据集路径):\n",
    "    for filename in 文件名:\n",
    "        print(os.path.join(dirname, filename))\n",
    "#if not data_dir.exists():\n",
    "#  tf.keras.utils.get_file(\n",
    "#      'maestro-v2.0.0-midi.zip',\n",
    "#      origin='https://storage.googleapis.com/magentadata/datasets/maestro/v2.0.0/maestro-v2.0.0-midi.zip',\n",
    "#      extract=True,\n",
    "#      cache_dir='.', cache_subdir='data',\n",
    "#  )\n",
    "文件名 = glob.glob(str(数据集路径/'*.mid*'))\n",
    "print('文件数:', len(文件名))"
   ]
  },
  {
   "cell_type": "code",
   "execution_count": 3,
   "id": "220c26ed-dbf7-4cad-93d8-e19b3c7b542e",
   "metadata": {
    "tags": []
   },
   "outputs": [
    {
     "name": "stdout",
     "output_type": "stream",
     "text": [
      "FourSeasons\\autumn_no1_allegro_gp.mid\n"
     ]
    }
   ],
   "source": [
    "示例文件 = 文件名[0]\n",
    "print(示例文件)\n",
    "\n",
    "pm = pretty_midi.PrettyMIDI(示例文件)\n",
    "def display_audio(pm: pretty_midi.PrettyMIDI, seconds=30):\n",
    "  waveform = pm.fluidsynth(fs=音频采样率)\n",
    "  # Take a sample of the generated waveform to mitigate kernel resets\n",
    "  waveform_short = waveform[:seconds*音频采样率]\n",
    "  return display.Audio(waveform_short, rate=音频采样率)\n",
    "\n",
    "from midi2audio import FluidSynth\n",
    "fs = FluidSynth()\n",
    "#fs.play_midi(示例文件)\n",
    "\n",
    "# using the default sound font in 44100 Hz sample rate\n",
    "\n",
    "#fs.midi_to_audio(示例文件, '数据集示例.wav')\n",
    "\n",
    "#display_audio(pm)"
   ]
  },
  {
   "cell_type": "code",
   "execution_count": 4,
   "id": "59abfd59-4d60-4c07-bcdf-f8573aae9d9a",
   "metadata": {},
   "outputs": [
    {
     "name": "stdout",
     "output_type": "stream",
     "text": [
      "使用的乐器数量 16\n",
      "乐器名称: Harpsichord\n",
      "乐器名称: Harpsichord\n",
      "乐器名称: String Ensemble 1\n",
      "乐器名称: Violin\n",
      "乐器名称: String Ensemble 1\n",
      "乐器名称: String Ensemble 1\n",
      "乐器名称: String Ensemble 1\n",
      "乐器名称: Synth Strings 2\n",
      "乐器名称: String Ensemble 1\n",
      "乐器名称: String Ensemble 1\n",
      "乐器名称: Synth Strings 1\n",
      "乐器名称: Synth Strings 1\n",
      "乐器名称: Synth Strings 1\n",
      "乐器名称: Synth Strings 1\n",
      "乐器名称: Synth Strings 1\n",
      "乐器名称: Acoustic Bass\n"
     ]
    }
   ],
   "source": [
    "print('使用的乐器数量', len(pm.instruments))\n",
    "乐器 = {}\n",
    "乐器名 = {}\n",
    "for i in range(len(pm.instruments)):\n",
    "    乐器[i] = pm.instruments[i]\n",
    "    乐器名[i] = pretty_midi.program_to_instrument_name(乐器[i].program)\n",
    "    print('乐器名称:', 乐器名[i])"
   ]
  },
  {
   "cell_type": "code",
   "execution_count": 5,
   "id": "24c2bd5f-9355-4b76-850b-c0de0ce6fb43",
   "metadata": {
    "tags": []
   },
   "outputs": [
    {
     "name": "stdout",
     "output_type": "stream",
     "text": [
      "乐器名称: Harpsichord\n",
      "0: 音高=60, 音符=C4, 音长=0.4839\n",
      "1: 音高=65, 音符=F4, 音长=0.4839\n",
      "2: 音高=68, 音符=G#4, 音长=0.4839\n",
      "3: 音高=72, 音符=C5, 音长=0.8065\n",
      "4: 音高=60, 音符=C4, 音长=0.4839\n",
      "5: 音高=64, 音符=E4, 音长=0.4839\n",
      "6: 音高=67, 音符=G4, 音长=0.4839\n",
      "7: 音高=70, 音符=A#4, 音长=0.8065\n",
      "8: 音高=60, 音符=C4, 音长=0.4839\n",
      "9: 音高=65, 音符=F4, 音长=0.4839\n",
      "乐器名称: Harpsichord\n",
      "0: 音高=50, 音符=D3, 音长=0.3846\n",
      "1: 音高=48, 音符=C3, 音长=0.3846\n",
      "2: 音高=47, 音符=B2, 音长=0.3846\n",
      "3: 音高=45, 音符=A2, 音长=0.3846\n",
      "4: 音高=44, 音符=G#2, 音长=0.3846\n",
      "5: 音高=41, 音符=F2, 音长=0.3846\n",
      "6: 音高=40, 音符=E2, 音长=0.3846\n",
      "7: 音高=38, 音符=D2, 音长=0.3846\n",
      "8: 音高=44, 音符=G#2, 音长=0.4902\n",
      "9: 音高=32, 音符=G#1, 音长=0.4902\n",
      "乐器名称: String Ensemble 1\n",
      "0: 音高=81, 音符=A5, 音长=0.0833\n",
      "1: 音高=77, 音符=F5, 音长=0.0833\n",
      "2: 音高=81, 音符=A5, 音长=0.0833\n",
      "3: 音高=77, 音符=F5, 音长=0.0833\n",
      "4: 音高=81, 音符=A5, 音长=0.0833\n",
      "5: 音高=77, 音符=F5, 音长=0.0833\n",
      "6: 音高=82, 音符=A#5, 音长=0.0833\n",
      "7: 音高=79, 音符=G5, 音长=0.0833\n",
      "8: 音高=81, 音符=A5, 音长=0.3698\n",
      "9: 音高=77, 音符=F5, 音长=0.3698\n",
      "乐器名称: Violin\n",
      "0: 音高=81, 音符=A5, 音长=0.0833\n",
      "1: 音高=77, 音符=F5, 音长=0.0833\n",
      "2: 音高=81, 音符=A5, 音长=0.0833\n",
      "3: 音高=77, 音符=F5, 音长=0.0833\n",
      "4: 音高=81, 音符=A5, 音长=0.0833\n",
      "5: 音高=77, 音符=F5, 音长=0.0833\n",
      "6: 音高=82, 音符=A#5, 音长=0.0833\n",
      "7: 音高=79, 音符=G5, 音长=0.0833\n",
      "8: 音高=81, 音符=A5, 音长=0.3698\n",
      "9: 音高=77, 音符=F5, 音长=0.3698\n",
      "乐器名称: String Ensemble 1\n",
      "0: 音高=81, 音符=A5, 音长=0.0833\n",
      "1: 音高=69, 音符=A4, 音长=0.0833\n",
      "2: 音高=81, 音符=A5, 音长=0.0833\n",
      "3: 音高=69, 音符=A4, 音长=0.0833\n",
      "4: 音高=81, 音符=A5, 音长=0.0833\n",
      "5: 音高=69, 音符=A4, 音长=0.0833\n",
      "6: 音高=82, 音符=A#5, 音长=0.0833\n",
      "7: 音高=70, 音符=A#4, 音长=0.0833\n",
      "8: 音高=81, 音符=A5, 音长=0.4167\n",
      "9: 音高=69, 音符=A4, 音长=0.4167\n",
      "乐器名称: String Ensemble 1\n",
      "0: 音高=77, 音符=F5, 音长=0.0833\n",
      "1: 音高=77, 音符=F5, 音长=0.0833\n",
      "2: 音高=77, 音符=F5, 音长=0.0833\n",
      "3: 音高=79, 音符=G5, 音长=0.0833\n",
      "4: 音高=77, 音符=F5, 音长=0.4167\n",
      "5: 音高=77, 音符=F5, 音长=0.0833\n",
      "6: 音高=79, 音符=G5, 音长=0.0833\n",
      "7: 音高=77, 音符=F5, 音长=0.0833\n",
      "8: 音高=77, 音符=F5, 音长=0.0833\n",
      "9: 音高=77, 音符=F5, 音长=0.0833\n",
      "乐器名称: String Ensemble 1\n",
      "0: 音高=69, 音符=A4, 音长=0.0833\n",
      "1: 音高=69, 音符=A4, 音长=0.0833\n",
      "2: 音高=69, 音符=A4, 音长=0.0833\n",
      "3: 音高=64, 音符=E4, 音长=0.0833\n",
      "4: 音高=69, 音符=A4, 音长=0.4167\n",
      "5: 音高=69, 音符=A4, 音长=0.0833\n",
      "6: 音高=64, 音符=E4, 音长=0.0833\n",
      "7: 音高=69, 音符=A4, 音长=0.0833\n",
      "8: 音高=69, 音符=A4, 音长=0.0833\n",
      "9: 音高=69, 音符=A4, 音长=0.0833\n",
      "乐器名称: Synth Strings 2\n",
      "0: 音高=62, 音符=D4, 音长=0.5807\n",
      "1: 音高=62, 音符=D4, 音长=0.5319\n",
      "2: 音高=62, 音符=D4, 音长=0.5397\n",
      "3: 音高=62, 音符=D4, 音长=0.8006\n",
      "乐器名称: String Ensemble 1\n",
      "0: 音高=53, 音符=F3, 音长=0.0833\n",
      "1: 音高=53, 音符=F3, 音长=0.0833\n",
      "2: 音高=53, 音符=F3, 音长=0.0833\n",
      "3: 音高=48, 音符=C3, 音长=0.0833\n",
      "4: 音高=53, 音符=F3, 音长=0.4167\n",
      "5: 音高=53, 音符=F3, 音长=0.0833\n",
      "6: 音高=48, 音符=C3, 音长=0.0833\n",
      "7: 音高=53, 音符=F3, 音长=0.0833\n",
      "8: 音高=53, 音符=F3, 音长=0.0833\n",
      "9: 音高=53, 音符=F3, 音长=0.0833\n",
      "乐器名称: String Ensemble 1\n",
      "0: 音高=41, 音符=F2, 音长=0.0833\n",
      "1: 音高=41, 音符=F2, 音长=0.0833\n",
      "2: 音高=41, 音符=F2, 音长=0.0833\n",
      "3: 音高=36, 音符=C2, 音长=0.0833\n",
      "4: 音高=41, 音符=F2, 音长=0.4167\n",
      "5: 音高=41, 音符=F2, 音长=0.0833\n",
      "6: 音高=36, 音符=C2, 音长=0.0833\n",
      "7: 音高=41, 音符=F2, 音长=0.0833\n",
      "8: 音高=41, 音符=F2, 音长=0.0833\n",
      "9: 音高=41, 音符=F2, 音长=0.0833\n",
      "乐器名称: Synth Strings 1\n",
      "0: 音高=81, 音符=A5, 音长=0.0833\n",
      "1: 音高=69, 音符=A4, 音长=0.0833\n",
      "2: 音高=81, 音符=A5, 音长=0.0833\n",
      "3: 音高=69, 音符=A4, 音长=0.0833\n",
      "4: 音高=81, 音符=A5, 音长=0.0833\n",
      "5: 音高=69, 音符=A4, 音长=0.0833\n",
      "6: 音高=82, 音符=A#5, 音长=0.0833\n",
      "7: 音高=70, 音符=A#4, 音长=0.0833\n",
      "8: 音高=81, 音符=A5, 音长=0.4167\n",
      "9: 音高=69, 音符=A4, 音长=0.4167\n",
      "乐器名称: Synth Strings 1\n",
      "0: 音高=77, 音符=F5, 音长=0.0833\n",
      "1: 音高=77, 音符=F5, 音长=0.0833\n",
      "2: 音高=77, 音符=F5, 音长=0.0833\n",
      "3: 音高=79, 音符=G5, 音长=0.0833\n",
      "4: 音高=77, 音符=F5, 音长=0.4167\n",
      "5: 音高=77, 音符=F5, 音长=0.0833\n",
      "6: 音高=79, 音符=G5, 音长=0.0833\n",
      "7: 音高=77, 音符=F5, 音长=0.0833\n",
      "8: 音高=77, 音符=F5, 音长=0.0833\n",
      "9: 音高=77, 音符=F5, 音长=0.0833\n",
      "乐器名称: Synth Strings 1\n",
      "0: 音高=69, 音符=A4, 音长=0.0833\n",
      "1: 音高=69, 音符=A4, 音长=0.0833\n",
      "2: 音高=69, 音符=A4, 音长=0.0833\n",
      "3: 音高=64, 音符=E4, 音长=0.0833\n",
      "4: 音高=69, 音符=A4, 音长=0.4167\n",
      "5: 音高=69, 音符=A4, 音长=0.0833\n",
      "6: 音高=64, 音符=E4, 音长=0.0833\n",
      "7: 音高=69, 音符=A4, 音长=0.0833\n",
      "8: 音高=69, 音符=A4, 音长=0.0833\n",
      "9: 音高=69, 音符=A4, 音长=0.0833\n",
      "乐器名称: Synth Strings 1\n",
      "0: 音高=53, 音符=F3, 音长=0.0833\n",
      "1: 音高=53, 音符=F3, 音长=0.0833\n",
      "2: 音高=53, 音符=F3, 音长=0.0833\n",
      "3: 音高=48, 音符=C3, 音长=0.0833\n",
      "4: 音高=53, 音符=F3, 音长=0.4167\n",
      "5: 音高=53, 音符=F3, 音长=0.0833\n",
      "6: 音高=48, 音符=C3, 音长=0.0833\n",
      "7: 音高=53, 音符=F3, 音长=0.0833\n",
      "8: 音高=53, 音符=F3, 音长=0.0833\n",
      "9: 音高=53, 音符=F3, 音长=0.0833\n",
      "乐器名称: Synth Strings 1\n",
      "0: 音高=41, 音符=F2, 音长=0.0833\n",
      "1: 音高=41, 音符=F2, 音长=0.0833\n",
      "2: 音高=41, 音符=F2, 音长=0.0833\n",
      "3: 音高=36, 音符=C2, 音长=0.0833\n",
      "4: 音高=41, 音符=F2, 音长=0.4167\n",
      "5: 音高=41, 音符=F2, 音长=0.0833\n",
      "6: 音高=36, 音符=C2, 音长=0.0833\n",
      "7: 音高=41, 音符=F2, 音长=0.0833\n",
      "8: 音高=41, 音符=F2, 音长=0.0833\n",
      "9: 音高=41, 音符=F2, 音长=0.0833\n",
      "乐器名称: Acoustic Bass\n",
      "0: 音高=41, 音符=F2, 音长=0.4167\n",
      "1: 音高=36, 音符=C2, 音长=0.2448\n",
      "2: 音高=41, 音符=F2, 音长=0.4167\n",
      "3: 音高=36, 音符=C2, 音长=0.2448\n",
      "4: 音高=41, 音符=F2, 音长=0.4167\n",
      "5: 音高=36, 音符=C2, 音长=0.2448\n",
      "6: 音高=41, 音符=F2, 音长=0.4167\n",
      "7: 音高=36, 音符=C2, 音长=0.2448\n",
      "8: 音高=41, 音符=F2, 音长=0.4286\n",
      "9: 音高=34, 音符=A#1, 音长=0.2623\n"
     ]
    }
   ],
   "source": [
    "for j in range(len(pm.instruments)):\n",
    "    print('乐器名称:', 乐器名[j])\n",
    "    for i, note in enumerate(乐器[j].notes[:10]):\n",
    "      note_name = pretty_midi.note_number_to_name(note.pitch)\n",
    "      duration = note.end - note.start\n",
    "      print(f'{i}: 音高={note.pitch}, 音符={note_name},'\n",
    "            f' 音长={duration:.4f}')"
   ]
  },
  {
   "cell_type": "code",
   "execution_count": 6,
   "id": "df1ad374-f07c-4b21-9b9b-6f86e03c2f14",
   "metadata": {},
   "outputs": [],
   "source": [
    "#将midi解析成notes\n",
    "\n",
    "def midi_to_notes(midi_file: str) -> pd.DataFrame:\n",
    "  pm = pretty_midi.PrettyMIDI(midi_file)\n",
    "  instrument = pm.instruments[0]\n",
    "  notes = collections.defaultdict(list)\n",
    "\n",
    "  # Sort the notes by start time\n",
    "  sorted_notes = sorted(instrument.notes, key=lambda note: note.start)\n",
    "  prev_start = sorted_notes[0].start\n",
    "\n",
    "  for note in sorted_notes:\n",
    "    start = note.start\n",
    "    end = note.end\n",
    "    notes['pitch'].append(note.pitch)\n",
    "    notes['start'].append(start)\n",
    "    notes['end'].append(end)\n",
    "    notes['step'].append(start - prev_start)\n",
    "    notes['duration'].append(end - start)\n",
    "    prev_start = start\n",
    "\n",
    "  return pd.DataFrame({name: np.array(value) for name, value in notes.items()})"
   ]
  },
  {
   "cell_type": "code",
   "execution_count": 7,
   "id": "bb02ceea-556d-491e-8327-7059adc07897",
   "metadata": {},
   "outputs": [
    {
     "data": {
      "text/html": [
       "<div>\n",
       "<style scoped>\n",
       "    .dataframe tbody tr th:only-of-type {\n",
       "        vertical-align: middle;\n",
       "    }\n",
       "\n",
       "    .dataframe tbody tr th {\n",
       "        vertical-align: top;\n",
       "    }\n",
       "\n",
       "    .dataframe thead th {\n",
       "        text-align: right;\n",
       "    }\n",
       "</style>\n",
       "<table border=\"1\" class=\"dataframe\">\n",
       "  <thead>\n",
       "    <tr style=\"text-align: right;\">\n",
       "      <th></th>\n",
       "      <th>pitch</th>\n",
       "      <th>start</th>\n",
       "      <th>end</th>\n",
       "      <th>step</th>\n",
       "      <th>duration</th>\n",
       "    </tr>\n",
       "  </thead>\n",
       "  <tbody>\n",
       "    <tr>\n",
       "      <th>0</th>\n",
       "      <td>60</td>\n",
       "      <td>207.656134</td>\n",
       "      <td>208.140004</td>\n",
       "      <td>0.000000</td>\n",
       "      <td>0.483870</td>\n",
       "    </tr>\n",
       "    <tr>\n",
       "      <th>1</th>\n",
       "      <td>65</td>\n",
       "      <td>208.140004</td>\n",
       "      <td>208.623875</td>\n",
       "      <td>0.483870</td>\n",
       "      <td>0.483871</td>\n",
       "    </tr>\n",
       "    <tr>\n",
       "      <th>2</th>\n",
       "      <td>68</td>\n",
       "      <td>208.623875</td>\n",
       "      <td>209.107745</td>\n",
       "      <td>0.483871</td>\n",
       "      <td>0.483870</td>\n",
       "    </tr>\n",
       "    <tr>\n",
       "      <th>3</th>\n",
       "      <td>72</td>\n",
       "      <td>209.107745</td>\n",
       "      <td>209.914196</td>\n",
       "      <td>0.483870</td>\n",
       "      <td>0.806451</td>\n",
       "    </tr>\n",
       "    <tr>\n",
       "      <th>4</th>\n",
       "      <td>60</td>\n",
       "      <td>211.527098</td>\n",
       "      <td>212.010968</td>\n",
       "      <td>2.419353</td>\n",
       "      <td>0.483870</td>\n",
       "    </tr>\n",
       "  </tbody>\n",
       "</table>\n",
       "</div>"
      ],
      "text/plain": [
       "   pitch       start         end      step  duration\n",
       "0     60  207.656134  208.140004  0.000000  0.483870\n",
       "1     65  208.140004  208.623875  0.483870  0.483871\n",
       "2     68  208.623875  209.107745  0.483871  0.483870\n",
       "3     72  209.107745  209.914196  0.483870  0.806451\n",
       "4     60  211.527098  212.010968  2.419353  0.483870"
      ]
     },
     "execution_count": 7,
     "metadata": {},
     "output_type": "execute_result"
    }
   ],
   "source": [
    "raw_notes = midi_to_notes(示例文件)\n",
    "raw_notes.head()"
   ]
  },
  {
   "cell_type": "code",
   "execution_count": 8,
   "id": "1e7ebd1f-947c-4380-b54b-1e1ee6f01914",
   "metadata": {},
   "outputs": [
    {
     "data": {
      "text/plain": [
       "array(['C4', 'F4', 'G#4', 'C5', 'C4', 'E4', 'G4', 'A#4', 'C4', 'F4'],\n",
       "      dtype='<U3')"
      ]
     },
     "execution_count": 8,
     "metadata": {},
     "output_type": "execute_result"
    }
   ],
   "source": [
    "get_note_names = np.vectorize(pretty_midi.note_number_to_name)\n",
    "sample_note_names = get_note_names(raw_notes['pitch'])\n",
    "sample_note_names[:10]"
   ]
  },
  {
   "cell_type": "code",
   "execution_count": 9,
   "id": "138f5c23-feb4-430a-ae62-e9ef91a92cb7",
   "metadata": {},
   "outputs": [
    {
     "name": "stdout",
     "output_type": "stream",
     "text": [
      "所有音符音高音长\n"
     ]
    },
    {
     "data": {
      "image/png": "[encoded data removed]",
      "text/plain": [
       "<Figure size 2000x400 with 1 Axes>"
      ]
     },
     "metadata": {},
     "output_type": "display_data"
    }
   ],
   "source": [
    "#绘制图表\n",
    "\n",
    "def plot_piano_roll(notes: pd.DataFrame, count: Optional[int] = None):\n",
    "  if count:\n",
    "    title = f'First {count} notes'\n",
    "  else:\n",
    "    title = f'Whole track'\n",
    "    count = len(notes['pitch'])\n",
    "  plt.figure(figsize=(20, 4))\n",
    "  plot_pitch = np.stack([notes['pitch'], notes['pitch']], axis=0)\n",
    "  plot_start_stop = np.stack([notes['start'], notes['end']], axis=0)\n",
    "  plt.plot(\n",
    "      plot_start_stop[:, :count], plot_pitch[:, :count], color=\"b\", marker=\".\")\n",
    "  plt.xlabel('Time [s]')\n",
    "  plt.ylabel('Pitch')\n",
    "  _ = plt.title(title)\n",
    "\n",
    "print('所有音符音高音长')\n",
    "plot_piano_roll(raw_notes)"
   ]
  },
  {
   "cell_type": "code",
   "execution_count": 10,
   "id": "c18fff98-8f33-4613-b628-8052195db583",
   "metadata": {},
   "outputs": [
    {
     "name": "stdout",
     "output_type": "stream",
     "text": [
      "音符分布\n"
     ]
    },
    {
     "data": {
      "image/png": "[encoded data removed]",
      "text/plain": [
       "<Figure size 1500x500 with 3 Axes>"
      ]
     },
     "metadata": {},
     "output_type": "display_data"
    }
   ],
   "source": [
    "def plot_distributions(notes: pd.DataFrame, drop_percentile=2.5):\n",
    "  plt.figure(figsize=[15, 5])\n",
    "  plt.subplot(1, 3, 1)\n",
    "  sns.histplot(notes, x=\"pitch\", bins=20)\n",
    "\n",
    "  plt.subplot(1, 3, 2)\n",
    "  max_step = np.percentile(notes['step'], 100 - drop_percentile)\n",
    "  sns.histplot(notes, x=\"step\", bins=np.linspace(0, max_step, 21))\n",
    "\n",
    "  plt.subplot(1, 3, 3)\n",
    "  max_duration = np.percentile(notes['duration'], 100 - drop_percentile)\n",
    "  sns.histplot(notes, x=\"duration\", bins=np.linspace(0, max_duration, 21))\n",
    "\n",
    "print('音符分布')\n",
    "plot_distributions(raw_notes)"
   ]
  },
  {
   "cell_type": "code",
   "execution_count": 11,
   "id": "bc7e05d4-5895-46be-b17f-8aeade085891",
   "metadata": {},
   "outputs": [
    {
     "name": "stderr",
     "output_type": "stream",
     "text": [
      "C:\\Users\\celan\\mambaforge\\envs\\ml\\lib\\site-packages\\pretty_midi\\instrument.py:167: SyntaxWarning: \"is not\" with a literal. Did you mean \"!=\"?\n",
      "  if bend_int is not 0:\n",
      "C:\\Users\\celan\\mambaforge\\envs\\ml\\lib\\site-packages\\pretty_midi\\instrument.py:176: SyntaxWarning: \"is not\" with a literal. Did you mean \"!=\"?\n",
      "  if bend_int is not 0:\n",
      "C:\\Users\\celan\\mambaforge\\envs\\ml\\lib\\site-packages\\pretty_midi\\instrument.py:167: SyntaxWarning: \"is not\" with a literal. Did you mean \"!=\"?\n",
      "  if bend_int is not 0:\n",
      "C:\\Users\\celan\\mambaforge\\envs\\ml\\lib\\site-packages\\pretty_midi\\instrument.py:176: SyntaxWarning: \"is not\" with a literal. Did you mean \"!=\"?\n",
      "  if bend_int is not 0:\n"
     ]
    },
    {
     "ename": "AttributeError",
     "evalue": "module 'fluidsynth' has no attribute 'Synth'",
     "output_type": "error",
     "traceback": [
      "\u001b[1;31m---------------------------------------------------------------------------\u001b[0m",
      "\u001b[1;31mAttributeError\u001b[0m                            Traceback (most recent call last)",
      "Cell \u001b[1;32mIn[11], line 34\u001b[0m\n\u001b[0;32m     30\u001b[0m example_file \u001b[38;5;241m=\u001b[39m \u001b[38;5;124m'\u001b[39m\u001b[38;5;124mexample.midi\u001b[39m\u001b[38;5;124m'\u001b[39m\n\u001b[0;32m     31\u001b[0m example_pm \u001b[38;5;241m=\u001b[39m notes_to_midi(\n\u001b[0;32m     32\u001b[0m     raw_notes, out_file\u001b[38;5;241m=\u001b[39mexample_file, instrument_name\u001b[38;5;241m=\u001b[39m\u001b[38;5;124m'\u001b[39m\u001b[38;5;124mviolin\u001b[39m\u001b[38;5;124m'\u001b[39m)\n\u001b[1;32m---> 34\u001b[0m \u001b[43mdisplay_audio\u001b[49m\u001b[43m(\u001b[49m\u001b[43mexample_pm\u001b[49m\u001b[43m)\u001b[49m\n",
      "Cell \u001b[1;32mIn[3], line 6\u001b[0m, in \u001b[0;36mdisplay_audio\u001b[1;34m(pm, seconds)\u001b[0m\n\u001b[0;32m      5\u001b[0m \u001b[38;5;28;01mdef\u001b[39;00m \u001b[38;5;21mdisplay_audio\u001b[39m(pm: pretty_midi\u001b[38;5;241m.\u001b[39mPrettyMIDI, seconds\u001b[38;5;241m=\u001b[39m\u001b[38;5;241m30\u001b[39m):\n\u001b[1;32m----> 6\u001b[0m   waveform \u001b[38;5;241m=\u001b[39m \u001b[43mpm\u001b[49m\u001b[38;5;241;43m.\u001b[39;49m\u001b[43mfluidsynth\u001b[49m\u001b[43m(\u001b[49m\u001b[43mfs\u001b[49m\u001b[38;5;241;43m=\u001b[39;49m\u001b[43m音频采样率\u001b[49m\u001b[43m)\u001b[49m\n\u001b[0;32m      7\u001b[0m   \u001b[38;5;66;03m# Take a sample of the generated waveform to mitigate kernel resets\u001b[39;00m\n\u001b[0;32m      8\u001b[0m   waveform_short \u001b[38;5;241m=\u001b[39m waveform[:seconds\u001b[38;5;241m*\u001b[39m音频采样率]\n",
      "File \u001b[1;32m~\\mambaforge\\envs\\ml\\lib\\site-packages\\pretty_midi\\pretty_midi.py:945\u001b[0m, in \u001b[0;36mPrettyMIDI.fluidsynth\u001b[1;34m(self, fs, sf2_path)\u001b[0m\n\u001b[0;32m    943\u001b[0m     \u001b[38;5;28;01mreturn\u001b[39;00m np\u001b[38;5;241m.\u001b[39marray([])\n\u001b[0;32m    944\u001b[0m \u001b[38;5;66;03m# Get synthesized waveform for each instrument\u001b[39;00m\n\u001b[1;32m--> 945\u001b[0m waveforms \u001b[38;5;241m=\u001b[39m [i\u001b[38;5;241m.\u001b[39mfluidsynth(fs\u001b[38;5;241m=\u001b[39mfs,\n\u001b[0;32m    946\u001b[0m                           sf2_path\u001b[38;5;241m=\u001b[39msf2_path) \u001b[38;5;28;01mfor\u001b[39;00m i \u001b[38;5;129;01min\u001b[39;00m \u001b[38;5;28mself\u001b[39m\u001b[38;5;241m.\u001b[39minstruments]\n\u001b[0;32m    947\u001b[0m \u001b[38;5;66;03m# Allocate output waveform, with #sample = max length of all waveforms\u001b[39;00m\n\u001b[0;32m    948\u001b[0m synthesized \u001b[38;5;241m=\u001b[39m np\u001b[38;5;241m.\u001b[39mzeros(np\u001b[38;5;241m.\u001b[39mmax([w\u001b[38;5;241m.\u001b[39mshape[\u001b[38;5;241m0\u001b[39m] \u001b[38;5;28;01mfor\u001b[39;00m w \u001b[38;5;129;01min\u001b[39;00m waveforms]))\n",
      "File \u001b[1;32m~\\mambaforge\\envs\\ml\\lib\\site-packages\\pretty_midi\\pretty_midi.py:945\u001b[0m, in \u001b[0;36m<listcomp>\u001b[1;34m(.0)\u001b[0m\n\u001b[0;32m    943\u001b[0m     \u001b[38;5;28;01mreturn\u001b[39;00m np\u001b[38;5;241m.\u001b[39marray([])\n\u001b[0;32m    944\u001b[0m \u001b[38;5;66;03m# Get synthesized waveform for each instrument\u001b[39;00m\n\u001b[1;32m--> 945\u001b[0m waveforms \u001b[38;5;241m=\u001b[39m [\u001b[43mi\u001b[49m\u001b[38;5;241;43m.\u001b[39;49m\u001b[43mfluidsynth\u001b[49m\u001b[43m(\u001b[49m\u001b[43mfs\u001b[49m\u001b[38;5;241;43m=\u001b[39;49m\u001b[43mfs\u001b[49m\u001b[43m,\u001b[49m\n\u001b[0;32m    946\u001b[0m \u001b[43m                          \u001b[49m\u001b[43msf2_path\u001b[49m\u001b[38;5;241;43m=\u001b[39;49m\u001b[43msf2_path\u001b[49m\u001b[43m)\u001b[49m \u001b[38;5;28;01mfor\u001b[39;00m i \u001b[38;5;129;01min\u001b[39;00m \u001b[38;5;28mself\u001b[39m\u001b[38;5;241m.\u001b[39minstruments]\n\u001b[0;32m    947\u001b[0m \u001b[38;5;66;03m# Allocate output waveform, with #sample = max length of all waveforms\u001b[39;00m\n\u001b[0;32m    948\u001b[0m synthesized \u001b[38;5;241m=\u001b[39m np\u001b[38;5;241m.\u001b[39mzeros(np\u001b[38;5;241m.\u001b[39mmax([w\u001b[38;5;241m.\u001b[39mshape[\u001b[38;5;241m0\u001b[39m] \u001b[38;5;28;01mfor\u001b[39;00m w \u001b[38;5;129;01min\u001b[39;00m waveforms]))\n",
      "File \u001b[1;32m~\\mambaforge\\envs\\ml\\lib\\site-packages\\pretty_midi\\instrument.py:468\u001b[0m, in \u001b[0;36mInstrument.fluidsynth\u001b[1;34m(self, fs, sf2_path)\u001b[0m\n\u001b[0;32m    465\u001b[0m     \u001b[38;5;28;01mreturn\u001b[39;00m np\u001b[38;5;241m.\u001b[39marray([])\n\u001b[0;32m    467\u001b[0m \u001b[38;5;66;03m# Create fluidsynth instance\u001b[39;00m\n\u001b[1;32m--> 468\u001b[0m fl \u001b[38;5;241m=\u001b[39m \u001b[43mfluidsynth\u001b[49m\u001b[38;5;241;43m.\u001b[39;49m\u001b[43mSynth\u001b[49m(samplerate\u001b[38;5;241m=\u001b[39mfs)\n\u001b[0;32m    469\u001b[0m \u001b[38;5;66;03m# Load in the soundfont\u001b[39;00m\n\u001b[0;32m    470\u001b[0m sfid \u001b[38;5;241m=\u001b[39m fl\u001b[38;5;241m.\u001b[39msfload(sf2_path)\n",
      "\u001b[1;31mAttributeError\u001b[0m: module 'fluidsynth' has no attribute 'Synth'"
     ]
    }
   ],
   "source": [
    "def notes_to_midi(\n",
    "  notes: pd.DataFrame,\n",
    "  out_file: str, \n",
    "  instrument_name: str,\n",
    "  velocity: int = 100,  # note loudness\n",
    ") -> pretty_midi.PrettyMIDI:\n",
    "\n",
    "  pm = pretty_midi.PrettyMIDI()\n",
    "  instrument = pretty_midi.Instrument(\n",
    "      program=pretty_midi.instrument_name_to_program(\n",
    "          instrument_name))\n",
    "\n",
    "  prev_start = 0\n",
    "  for i, note in notes.iterrows():\n",
    "    start = float(prev_start + note['step'])\n",
    "    end = float(start + note['duration'])\n",
    "    note = pretty_midi.Note(\n",
    "        velocity=velocity,\n",
    "        pitch=int(note['pitch']),\n",
    "        start=start,\n",
    "        end=end,\n",
    "    )\n",
    "    instrument.notes.append(note)\n",
    "    prev_start = start\n",
    "\n",
    "  pm.instruments.append(instrument)\n",
    "  pm.write(out_file)\n",
    "  return pm\n",
    "\n",
    "example_file = 'example.midi'\n",
    "example_pm = notes_to_midi(\n",
    "    raw_notes, out_file=example_file, instrument_name='violin')\n",
    "\n",
    "display_audio(example_pm)"
   ]
  },
  {
   "cell_type": "code",
   "execution_count": null,
   "id": "b40b1ddd-0641-4b11-8184-debf76d1ebec",
   "metadata": {},
   "outputs": [],
   "source": [
    "#Create the training dataset\n",
    "num_files = 5\n",
    "all_notes = []\n",
    "for f in 文件名[:num_files]:\n",
    "  notes = midi_to_notes(f)\n",
    "  all_notes.append(notes)\n",
    "\n",
    "all_notes = pd.concat(all_notes)\n",
    "\n",
    "n_notes = len(all_notes)\n",
    "print('Number of notes parsed:', n_notes)"
   ]
  },
  {
   "cell_type": "code",
   "execution_count": null,
   "id": "c033e11b-8d4e-4bd2-a162-d9ab75fdfb6a",
   "metadata": {},
   "outputs": [],
   "source": [
    "key_order = ['pitch', 'step', 'duration']\n",
    "train_notes = np.stack([all_notes[key] for key in key_order], axis=1)\n",
    "\n",
    "notes_ds = tf.data.Dataset.from_tensor_slices(train_notes)\n",
    "notes_ds.element_spec"
   ]
  },
  {
   "cell_type": "code",
   "execution_count": null,
   "id": "690d7304-fbb4-4d9f-96d3-6214c12ff60b",
   "metadata": {},
   "outputs": [],
   "source": [
    "def create_sequences(\n",
    "    dataset: tf.data.Dataset, \n",
    "    seq_length: int,\n",
    "    vocab_size = 128,\n",
    ") -> tf.data.Dataset:\n",
    "  \"\"\"Returns TF Dataset of sequence and label examples.\"\"\"\n",
    "  seq_length = seq_length+1\n",
    "\n",
    "  # Take 1 extra for the labels\n",
    "  windows = dataset.window(seq_length, shift=1, stride=1,\n",
    "                              drop_remainder=True)\n",
    "\n",
    "  # `flat_map` flattens the\" dataset of datasets\" into a dataset of tensors\n",
    "  flatten = lambda x: x.batch(seq_length, drop_remainder=True)\n",
    "  sequences = windows.flat_map(flatten)\n",
    "\n",
    "  # Normalize note pitch\n",
    "  def scale_pitch(x):\n",
    "    x = x/[vocab_size,1.0,1.0]\n",
    "    return x\n",
    "\n",
    "  # Split the labels\n",
    "  def split_labels(sequences):\n",
    "    inputs = sequences[:-1]\n",
    "    labels_dense = sequences[-1]\n",
    "    labels = {key:labels_dense[i] for i,key in enumerate(key_order)}\n",
    "\n",
    "    return scale_pitch(inputs), labels\n",
    "\n",
    "  return sequences.map(split_labels, num_parallel_calls=tf.data.AUTOTUNE)"
   ]
  },
  {
   "cell_type": "code",
   "execution_count": null,
   "id": "5f6e333a-e025-450d-96e9-6d2731569648",
   "metadata": {},
   "outputs": [],
   "source": [
    "seq_length = 25\n",
    "vocab_size = 128\n",
    "seq_ds = create_sequences(notes_ds, seq_length, vocab_size)\n",
    "seq_ds.element_spec"
   ]
  },
  {
   "cell_type": "code",
   "execution_count": null,
   "id": "1279e4f3-a3d0-4f0e-8f68-f71472fd3e39",
   "metadata": {},
   "outputs": [],
   "source": [
    "for seq, target in seq_ds.take(1):\n",
    "  print('sequence shape:', seq.shape)\n",
    "  print('sequence elements (first 10):', seq[0: 10])\n",
    "  print()\n",
    "  print('target:', target)"
   ]
  },
  {
   "cell_type": "code",
   "execution_count": null,
   "id": "1fbff8b9-b11f-4275-8eba-db97b1f74245",
   "metadata": {},
   "outputs": [],
   "source": [
    "batch_size = 64\n",
    "buffer_size = n_notes - seq_length  # the number of items in the dataset\n",
    "train_ds = (seq_ds\n",
    "            .shuffle(buffer_size)\n",
    "            .batch(batch_size, drop_remainder=True)\n",
    "            .cache()\n",
    "            .prefetch(tf.data.experimental.AUTOTUNE))"
   ]
  },
  {
   "cell_type": "code",
   "execution_count": null,
   "id": "dc94b8da-4bdc-4144-977a-8d35e31192ba",
   "metadata": {},
   "outputs": [],
   "source": [
    "train_ds.element_spec"
   ]
  },
  {
   "cell_type": "code",
   "execution_count": null,
   "id": "6fcecc9c-44a8-4ad5-9017-268b5ae592bb",
   "metadata": {},
   "outputs": [],
   "source": [
    "#Create and train the model\n",
    "def mse_with_positive_pressure(y_true: tf.Tensor, y_pred: tf.Tensor):\n",
    "  mse = (y_true - y_pred) ** 2\n",
    "  positive_pressure = 10 * tf.maximum(-y_pred, 0.0)\n",
    "  return tf.reduce_mean(mse + positive_pressure)"
   ]
  },
  {
   "cell_type": "code",
   "execution_count": null,
   "id": "94a1aba8-0b7d-4d21-9687-1b8c5bda727f",
   "metadata": {},
   "outputs": [],
   "source": [
    "input_shape = (seq_length, 3)\n",
    "learning_rate = 0.005\n",
    "\n",
    "inputs = tf.keras.Input(input_shape)\n",
    "x = tf.keras.layers.LSTM(128)(inputs)\n",
    "\n",
    "outputs = {\n",
    "  'pitch': tf.keras.layers.Dense(128, name='pitch')(x),\n",
    "  'step': tf.keras.layers.Dense(1, name='step')(x),\n",
    "  'duration': tf.keras.layers.Dense(1, name='duration')(x),\n",
    "}\n",
    "\n",
    "model = tf.keras.Model(inputs, outputs)\n",
    "\n",
    "loss = {\n",
    "      'pitch': tf.keras.losses.SparseCategoricalCrossentropy(\n",
    "          from_logits=True),\n",
    "      'step': mse_with_positive_pressure,\n",
    "      'duration': mse_with_positive_pressure,\n",
    "}\n",
    "\n",
    "optimizer = tf.keras.optimizers.Adam(learning_rate=learning_rate)\n",
    "\n",
    "model.compile(loss=loss, optimizer=optimizer)\n",
    "\n",
    "model.summary()"
   ]
  },
  {
   "cell_type": "code",
   "execution_count": null,
   "id": "099d0a23-7cc1-4d26-9e64-03f6b2657b9a",
   "metadata": {},
   "outputs": [],
   "source": [
    "losses = model.evaluate(train_ds, return_dict=True)\n",
    "losses"
   ]
  },
  {
   "cell_type": "code",
   "execution_count": null,
   "id": "743feff8-9795-4bf5-8624-8b0efd8db22d",
   "metadata": {},
   "outputs": [],
   "source": [
    "#手动正则化？\n",
    "\n",
    "model.compile(\n",
    "    loss=loss,\n",
    "    loss_weights={\n",
    "        'duration':1,\n",
    "        'pitch': 1,\n",
    "        'step': 1,\n",
    "    },\n",
    "    optimizer=optimizer,\n",
    ")\n",
    "\n",
    "model.evaluate(train_ds, return_dict=True)"
   ]
  },
  {
   "cell_type": "code",
   "execution_count": null,
   "id": "9b2177e1-dabf-4210-b4fa-fbe8581b4515",
   "metadata": {},
   "outputs": [],
   "source": [
    "callbacks = [\n",
    "    tf.keras.callbacks.ModelCheckpoint(\n",
    "        filepath='./training_checkpoints/ckpt_{epoch}',\n",
    "        save_weights_only=True),\n",
    "    tf.keras.callbacks.EarlyStopping(\n",
    "        monitor='loss',\n",
    "        patience=5,\n",
    "        verbose=1,\n",
    "        restore_best_weights=True),\n",
    "]"
   ]
  },
  {
   "cell_type": "code",
   "execution_count": null,
   "id": "6e0b8ef2-87bf-475f-b3df-bf7c72faf793",
   "metadata": {},
   "outputs": [],
   "source": [
    "%%time\n",
    "epochs = 50\n",
    "\n",
    "history = model.fit(\n",
    "    train_ds,\n",
    "    epochs=epochs,\n",
    "    callbacks=callbacks,\n",
    ")"
   ]
  },
  {
   "cell_type": "code",
   "execution_count": null,
   "id": "86c09709-f46f-4452-ab90-2c9910c4d880",
   "metadata": {},
   "outputs": [],
   "source": [
    "plt.plot(history.epoch, history.history['loss'], label='total loss')\n",
    "plt.show()"
   ]
  },
  {
   "cell_type": "code",
   "execution_count": null,
   "id": "43f305c8-1add-429c-a887-b6f1a6ea7e4f",
   "metadata": {},
   "outputs": [],
   "source": [
    "#Generate notes\n",
    "def predict_next_note(\n",
    "    notes: np.ndarray, \n",
    "    keras_model: tf.keras.Model, \n",
    "    temperature: float = 1.0) -> int:\n",
    "  \"\"\"Generates a note IDs using a trained sequence model.\"\"\"\n",
    "\n",
    "  assert temperature > 0\n",
    "\n",
    "  # Add batch dimension\n",
    "  inputs = tf.expand_dims(notes, 0)\n",
    "\n",
    "  predictions = model.predict(inputs)\n",
    "  pitch_logits = predictions['pitch']\n",
    "  step = predictions['step']\n",
    "  duration = predictions['duration']\n",
    "\n",
    "  pitch_logits /= temperature\n",
    "  pitch = tf.random.categorical(pitch_logits, num_samples=1)\n",
    "  pitch = tf.squeeze(pitch, axis=-1)\n",
    "  duration = tf.squeeze(duration, axis=-1)\n",
    "  step = tf.squeeze(step, axis=-1)\n",
    "\n",
    "  # `step` and `duration` values should be non-negative\n",
    "  step = tf.maximum(0, step)\n",
    "  duration = tf.maximum(0, duration)\n",
    "\n",
    "  return int(pitch), float(step), float(duration)"
   ]
  },
  {
   "cell_type": "code",
   "execution_count": null,
   "id": "4dde9ad0-42ea-4c0e-b486-9c18c9ec41cf",
   "metadata": {},
   "outputs": [],
   "source": [
    "temperature = 2.0\n",
    "num_predictions = 120\n",
    "\n",
    "sample_notes = np.stack([raw_notes[key] for key in key_order], axis=1)\n",
    "\n",
    "# The initial sequence of notes; pitch is normalized similar to training\n",
    "# sequences\n",
    "input_notes = (\n",
    "    sample_notes[:seq_length] / np.array([vocab_size, 1, 1]))\n",
    "\n",
    "generated_notes = []\n",
    "prev_start = 0\n",
    "for _ in range(num_predictions):\n",
    "  pitch, step, duration = predict_next_note(input_notes, model, temperature)\n",
    "  start = prev_start + step\n",
    "  end = start + duration\n",
    "  input_note = (pitch, step, duration)\n",
    "  generated_notes.append((*input_note, start, end))\n",
    "  input_notes = np.delete(input_notes, 0, axis=0)\n",
    "  input_notes = np.append(input_notes, np.expand_dims(input_note, 0), axis=0)\n",
    "  prev_start = start\n",
    "\n",
    "generated_notes = pd.DataFrame(\n",
    "    generated_notes, columns=(*key_order, 'start', 'end'))"
   ]
  },
  {
   "cell_type": "code",
   "execution_count": null,
   "id": "b1c9667e-1fd9-4d33-92c1-f017c8ae5424",
   "metadata": {},
   "outputs": [],
   "source": [
    "generated_notes.head(10)"
   ]
  },
  {
   "cell_type": "code",
   "execution_count": null,
   "id": "5c586313-1aa9-4f1e-9e8f-20ea570f6c09",
   "metadata": {},
   "outputs": [],
   "source": [
    "out_file = 'output.mid'\n",
    "out_pm = notes_to_midi(\n",
    "    generated_notes, out_file=out_file, instrument_name=instrument_name)\n",
    "display_audio(out_pm)"
   ]
  },
  {
   "cell_type": "code",
   "execution_count": null,
   "id": "0cd7da29-82a7-42d8-a5c8-e7f729b7a5e2",
   "metadata": {},
   "outputs": [],
   "source": [
    "plot_piano_roll(generated_notes)"
   ]
  },
  {
   "cell_type": "code",
   "execution_count": null,
   "id": "0263e1fa-ffd8-4745-aca1-19f0bc7ededf",
   "metadata": {},
   "outputs": [],
   "source": [
    "plot_distributions(generated_notes)"
   ]
  },
  {
   "cell_type": "code",
   "execution_count": null,
   "id": "f91f500e-5695-4bee-87dd-91193950c63c",
   "metadata": {},
   "outputs": [],
   "source": [
    "from midi2audio import FluidSynth\n",
    "fs = FluidSynth()\n",
    "fs.midi_to_audio(out_file, 'tfoutput.mp3')"
   ]
  },
  {
   "cell_type": "code",
   "execution_count": null,
   "id": "b534ca64-fefc-48e8-aefb-abcfc3318a5d",
   "metadata": {},
   "outputs": [],
   "source": []
  }
 ],
 "metadata": {
  "kernelspec": {
   "display_name": "Python 3 (ipykernel)",
   "language": "python",
   "name": "python3"
  },
  "language_info": {
   "codemirror_mode": {
    "name": "ipython",
    "version": 3
   },
   "file_extension": ".py",
   "mimetype": "text/x-python",
   "name": "python",
   "nbconvert_exporter": "python",
   "pygments_lexer": "ipython3",
   "version": "3.10.9"
  }
 },
 "nbformat": 4,
 "nbformat_minor": 5
}
